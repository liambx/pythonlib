{
 "metadata": {
  "name": "",
  "signature": "sha256:f39f2a61dfd093a7ee8edc2c2edd981fef3372aa00e4e4fcdab141f011cfcbf5"
 },
 "nbformat": 3,
 "nbformat_minor": 0,
 "worksheets": [
  {
   "cells": [
    {
     "cell_type": "code",
     "collapsed": false,
     "input": [
      "execfile('/home/xiaodongli/software/pythonlib/stdA.py')\n",
      "execfile('/home/xiaodongli/software/pythonlib/Tpcftools.py')\n",
      "execfile('/home/xiaodongli/software/pythonlib/bossdatamock.py')\n",
      "datamockdir = datamockdir_cluster\n",
      "%pylab inline"
     ],
     "language": "python",
     "metadata": {},
     "outputs": [
      {
       "output_type": "stream",
       "stream": "stderr",
       "text": [
        "/home/xiaodongli/software/pythonlib/Tpcftools_smuintxi.py:523: SyntaxWarning: name 'oms' is assigned to before global declaration\n",
        "  global oms, ws, omws, scanname\n",
        "/home/xiaodongli/software/pythonlib/Tpcftools_smuintxi.py:523: SyntaxWarning: name 'ws' is assigned to before global declaration\n",
        "  global oms, ws, omws, scanname\n",
        "/home/xiaodongli/software/pythonlib/Tpcftools_smuintxi.py:523: SyntaxWarning: name 'omws' is assigned to before global declaration\n",
        "  global oms, ws, omws, scanname\n",
        "/home/xiaodongli/software/pythonlib/Tpcftools_smuintxi.py:523: SyntaxWarning: name 'scanname' is assigned to before global declaration\n",
        "  global oms, ws, omws, scanname\n",
        "/home/xiaodongli/software/pythonlib/Tpcftools_smuintxi.py:523: SyntaxWarning: name 'oms' is assigned to before global declaration\n",
        "  global oms, ws, omws, scanname\n"
       ]
      },
      {
       "output_type": "stream",
       "stream": "stderr",
       "text": [
        "/home/xiaodongli/software/pythonlib/Tpcftools_smuintxi.py:523: SyntaxWarning: name 'ws' is assigned to before global declaration\n",
        "  global oms, ws, omws, scanname\n",
        "/home/xiaodongli/software/pythonlib/Tpcftools_smuintxi.py:523: SyntaxWarning: name 'omws' is assigned to before global declaration\n",
        "  global oms, ws, omws, scanname\n",
        "/home/xiaodongli/software/pythonlib/Tpcftools_smuintxi.py:523: SyntaxWarning: name 'scanname' is assigned to before global declaration\n",
        "  global oms, ws, omws, scanname\n",
        "WARNING: "
       ]
      },
      {
       "output_type": "stream",
       "stream": "stdout",
       "text": [
        "Populating the interactive namespace from numpy and matplotlib\n"
       ]
      },
      {
       "output_type": "stream",
       "stream": "stderr",
       "text": [
        "pylab import has clobbered these variables: ['copy']\n",
        "`%matplotlib` prevents importing * from pylab and numpy\n"
       ]
      }
     ],
     "prompt_number": 7
    },
    {
     "cell_type": "code",
     "collapsed": false,
     "input": [
      "print array_to_str_fmtted(Dense1subscan_omlist, ' ', '%.4f')\n",
      "print array_to_str_fmtted(Dense1subscan_wlist, ' ', '%.4f')\n",
      "print array_to_str_fmtted(Dense2subscan_omlist, ' ', '%.4f')\n",
      "print array_to_str_fmtted(Dense2subscan_wlist, ' ', '%.4f')"
     ],
     "language": "python",
     "metadata": {},
     "outputs": [
      {
       "output_type": "stream",
       "stream": "stdout",
       "text": [
        "0.0600 0.0850 0.1100 0.1350 0.1600 0.1850 0.2100 0.2350 0.2600 0.2850 0.3100 0.3350 0.3600 0.3850 0.4100 0.4350 0.4600 0.4850 0.5100 0.5350 0.5600 0.5850 0.6100 0.6350 0.6600 \n",
        "-2.5000 -2.4500 -2.4000 -2.3500 -2.3000 -2.2500 -2.2000 -2.1500 -2.1000 -2.0500 -2.0000 -1.9500 -1.9000 -1.8500 -1.8000 -1.7500 -1.7000 -1.6500 -1.6000 -1.5500 -1.5000 -1.4500 -1.4000 -1.3500 -1.3000 -1.2500 -1.2000 -1.1500 -1.1000 -1.0500 -1.0000 -0.9500 -0.9000 -0.8500 -0.8000 -0.7500 -0.7000 -0.6500 -0.6000 -0.5500 -0.5000 -0.4500 -0.4000 -0.3500 -0.3000 -0.2500 -0.2000 -0.1500 -0.1000 -0.0500 0.0000 \n",
        "0.0600 0.0650 0.0700 0.0750 0.0800 0.0850 0.0900 0.0950 0.1000 0.1050 0.1100 0.1150 0.1200 0.1250 0.1300 0.1350 0.1400 0.1450 0.1500 0.1550 0.1600 0.1650 0.1700 0.1750 0.1800 0.1850 0.1900 0.1950 0.2000 0.2050 0.2100 0.2150 0.2200 0.2250 0.2300 0.2350 0.2400 0.2450 0.2500 0.2550 0.2600 0.2650 0.2700 0.2750 0.2800 0.2850 0.2900 0.2950 0.3000 0.3050 0.3100 0.3150 0.3200 0.3250 0.3300 0.3350 0.3400 0.3450 0.3500 0.3550 0.3600 0.3650 0.3700 0.3750 0.3800 0.3850 0.3900 0.3950 0.4000 0.4050 0.4100 \n",
        "-1.5000 -1.4750 -1.4500 -1.4250 -1.4000 -1.3750 -1.3500 -1.3250 -1.3000 -1.2750 -1.2500 -1.2250 -1.2000 -1.1750 -1.1500 -1.1250 -1.1000 -1.0750 -1.0500 -1.0250 -1.0000 -0.9750 -0.9500 -0.9250 -0.9000 -0.8750 -0.8500 -0.8250 -0.8000 -0.7750 -0.7500 -0.7250 -0.7000 -0.6750 -0.6500 -0.6250 -0.6000 -0.5750 -0.5500 -0.5250 -0.5000 -0.4750 -0.4500 -0.4250 -0.4000 \n"
       ]
      }
     ],
     "prompt_number": 8
    },
    {
     "cell_type": "code",
     "collapsed": false,
     "input": [
      "mockfile('DR12v4-CMASS', 'PatchyV6C', 0, )"
     ],
     "language": "python",
     "metadata": {},
     "outputs": [
      {
       "metadata": {},
       "output_type": "pyout",
       "prompt_number": 9,
       "text": [
        "'/home/xiaodongli/SparseFilaments/data/input/boss2pcf/data/DR12v4-CMASS/PatchyV6C.RSD.0000'"
       ]
      }
     ],
     "prompt_number": 9
    },
    {
     "cell_type": "code",
     "collapsed": false,
     "input": [
      "v1 = [-881.272278, -1581.69849, 230.757584]\n",
      "v2 = [-2.87872314, -5.16760254, 0.753036499]\n",
      "theta = sum(XmultY(v1,v2))\n",
      "theta = abs(theta/np.sqrt(sum(XmultY(v1,v1)))/np.sqrt(sum(XmultY(v2,v2))))\n",
      "print theta"
     ],
     "language": "python",
     "metadata": {},
     "outputs": [
      {
       "output_type": "stream",
       "stream": "stdout",
       "text": [
        "0.999999987408\n"
       ]
      }
     ],
     "prompt_number": 4
    },
    {
     "cell_type": "code",
     "collapsed": false,
     "input": [
      "catname = 'DR12v4-CMASS'\n",
      "catname2= 'HR3'\n",
      "imock=0\n",
      "RSDstr = 'noRSD'\n",
      "smufile=Tpcfrltfilename(binsplittedfilename(mockfile(catname, catname2, imock, RSDstr), 1,3), 150,150,120)\n",
      "smusettings = smusettings_smax51\n",
      "\n",
      "ximufile, muedges, ximu = smu__intxi_calcwrite(smufile, smusettings, writetofile=False)\n",
      "fig, ax = figax()\n",
      "ax.plot(muedges, ximu)"
     ],
     "language": "python",
     "metadata": {},
     "outputs": [
      {
       "ename": "IOError",
       "evalue": "[Errno 2] No such file or directory: '/home/xiaodongli/SparseFilaments/data/input/boss2pcf/data/DR12v4-CMASS//xyzw.binsplitted/HR3.noRSD.000.xyzw.1of3.rmax150.150rbins.120mubins.2pcf'",
       "output_type": "pyerr",
       "traceback": [
        "\u001b[1;31m---------------------------------------------------------------------------\u001b[0m\n\u001b[1;31mIOError\u001b[0m                                   Traceback (most recent call last)",
        "\u001b[1;32m<ipython-input-12-85025b607f74>\u001b[0m in \u001b[0;36m<module>\u001b[1;34m()\u001b[0m\n\u001b[0;32m      6\u001b[0m \u001b[0msmusettings\u001b[0m \u001b[1;33m=\u001b[0m \u001b[0msmusettings_smax51\u001b[0m\u001b[1;33m\u001b[0m\u001b[0m\n\u001b[0;32m      7\u001b[0m \u001b[1;33m\u001b[0m\u001b[0m\n\u001b[1;32m----> 8\u001b[1;33m \u001b[0mximufile\u001b[0m\u001b[1;33m,\u001b[0m \u001b[0mmuedges\u001b[0m\u001b[1;33m,\u001b[0m \u001b[0mximu\u001b[0m \u001b[1;33m=\u001b[0m \u001b[0msmu__intxi_calcwrite\u001b[0m\u001b[1;33m(\u001b[0m\u001b[0msmufile\u001b[0m\u001b[1;33m,\u001b[0m \u001b[0msmusettings\u001b[0m\u001b[1;33m,\u001b[0m \u001b[0mwritetofile\u001b[0m\u001b[1;33m=\u001b[0m\u001b[0mFalse\u001b[0m\u001b[1;33m)\u001b[0m\u001b[1;33m\u001b[0m\u001b[0m\n\u001b[0m\u001b[0;32m      9\u001b[0m \u001b[0mfig\u001b[0m\u001b[1;33m,\u001b[0m \u001b[0max\u001b[0m \u001b[1;33m=\u001b[0m \u001b[0mfigax\u001b[0m\u001b[1;33m(\u001b[0m\u001b[1;33m)\u001b[0m\u001b[1;33m\u001b[0m\u001b[0m\n\u001b[0;32m     10\u001b[0m \u001b[0max\u001b[0m\u001b[1;33m.\u001b[0m\u001b[0mplot\u001b[0m\u001b[1;33m(\u001b[0m\u001b[0mmuedges\u001b[0m\u001b[1;33m,\u001b[0m \u001b[0mximu\u001b[0m\u001b[1;33m)\u001b[0m\u001b[1;33m\u001b[0m\u001b[0m\n",
        "\u001b[1;32m/home/xiaodongli/software/pythonlib/Tpcftools_smuintxi.py\u001b[0m in \u001b[0;36msmu__intxi_calcwrite\u001b[1;34m(smufile, smusettings, smu__intxi__settings, mufmt, sfmt, smudata, writetofile)\u001b[0m\n\u001b[0;32m    155\u001b[0m def smu__intxi_calcwrite(smufile, smusettings, smu__intxi__settings=smu__intxi__settings_std,\n\u001b[0;32m    156\u001b[0m                          mufmt='automatic', sfmt='%.2f', smudata=None, writetofile=True):\n\u001b[1;32m--> 157\u001b[1;33m     \u001b[1;32mif\u001b[0m \u001b[0msmudata\u001b[0m \u001b[1;33m==\u001b[0m \u001b[0mNone\u001b[0m\u001b[1;33m:\u001b[0m  \u001b[0msmudata\u001b[0m \u001b[1;33m=\u001b[0m \u001b[0msmu__loadin\u001b[0m\u001b[1;33m(\u001b[0m\u001b[0msmufile\u001b[0m\u001b[1;33m,\u001b[0m \u001b[0msmusettings\u001b[0m\u001b[1;33m)\u001b[0m\u001b[1;33m\u001b[0m\u001b[0m\n\u001b[0m\u001b[0;32m    158\u001b[0m     \u001b[0mDDlist\u001b[0m\u001b[1;33m,\u001b[0m \u001b[0mDRlist\u001b[0m\u001b[1;33m,\u001b[0m \u001b[0mRRlist\u001b[0m \u001b[1;33m=\u001b[0m \u001b[0mXsfrom2ddata\u001b[0m\u001b[1;33m(\u001b[0m\u001b[0msmudata\u001b[0m\u001b[1;33m,\u001b[0m \u001b[1;33m[\u001b[0m\u001b[1;36m4\u001b[0m\u001b[1;33m,\u001b[0m\u001b[1;36m5\u001b[0m\u001b[1;33m,\u001b[0m\u001b[1;36m6\u001b[0m\u001b[1;33m]\u001b[0m\u001b[1;33m)\u001b[0m\u001b[1;33m\u001b[0m\u001b[0m\n\u001b[0;32m    159\u001b[0m     \u001b[0msmu__initsmusettings\u001b[0m\u001b[1;33m(\u001b[0m\u001b[0msmusettings\u001b[0m\u001b[1;33m)\u001b[0m\u001b[1;33m\u001b[0m\u001b[0m\n",
        "\u001b[1;32m/home/xiaodongli/software/pythonlib/Tpcftools.py\u001b[0m in \u001b[0;36msmu__loadin\u001b[1;34m(smufile, smusettings, icol)\u001b[0m\n\u001b[0;32m    121\u001b[0m                         \u001b[1;32mif\u001b[0m \u001b[0micol\u001b[0m\u001b[1;33m==\u001b[0m\u001b[1;34m''\u001b[0m\u001b[1;33m,\u001b[0m \u001b[0mload\u001b[0m \u001b[1;32min\u001b[0m \u001b[0mall\u001b[0m \u001b[0mcolumns\u001b[0m\u001b[1;33m;\u001b[0m \u001b[1;32melse\u001b[0m \u001b[0monly\u001b[0m \u001b[0mload\u001b[0m \u001b[1;32min\u001b[0m \u001b[0micol\u001b[0m \u001b[0mcolumn\u001b[0m\u001b[1;33m\u001b[0m\u001b[0m\n\u001b[0;32m    122\u001b[0m     \"\"\"\n\u001b[1;32m--> 123\u001b[1;33m     \u001b[0mdata\u001b[0m \u001b[1;33m=\u001b[0m \u001b[0mnp\u001b[0m\u001b[1;33m.\u001b[0m\u001b[0mloadtxt\u001b[0m\u001b[1;33m(\u001b[0m\u001b[0msmufile\u001b[0m\u001b[1;33m)\u001b[0m\u001b[1;33m\u001b[0m\u001b[0m\n\u001b[0m\u001b[0;32m    124\u001b[0m \u001b[1;33m\u001b[0m\u001b[0m\n\u001b[0;32m    125\u001b[0m     \u001b[1;32mif\u001b[0m \u001b[0micol\u001b[0m \u001b[1;33m==\u001b[0m \u001b[1;34m''\u001b[0m\u001b[1;33m:\u001b[0m\u001b[1;33m\u001b[0m\u001b[0m\n",
        "\u001b[1;32m/home/xiaodongli/software/anaconda/lib/python2.7/site-packages/numpy/lib/npyio.pyc\u001b[0m in \u001b[0;36mloadtxt\u001b[1;34m(fname, dtype, comments, delimiter, converters, skiprows, usecols, unpack, ndmin)\u001b[0m\n\u001b[0;32m    735\u001b[0m                 \u001b[0mfh\u001b[0m \u001b[1;33m=\u001b[0m \u001b[0miter\u001b[0m\u001b[1;33m(\u001b[0m\u001b[0mbz2\u001b[0m\u001b[1;33m.\u001b[0m\u001b[0mBZ2File\u001b[0m\u001b[1;33m(\u001b[0m\u001b[0mfname\u001b[0m\u001b[1;33m)\u001b[0m\u001b[1;33m)\u001b[0m\u001b[1;33m\u001b[0m\u001b[0m\n\u001b[0;32m    736\u001b[0m             \u001b[1;32melif\u001b[0m \u001b[0msys\u001b[0m\u001b[1;33m.\u001b[0m\u001b[0mversion_info\u001b[0m\u001b[1;33m[\u001b[0m\u001b[1;36m0\u001b[0m\u001b[1;33m]\u001b[0m \u001b[1;33m==\u001b[0m \u001b[1;36m2\u001b[0m\u001b[1;33m:\u001b[0m\u001b[1;33m\u001b[0m\u001b[0m\n\u001b[1;32m--> 737\u001b[1;33m                 \u001b[0mfh\u001b[0m \u001b[1;33m=\u001b[0m \u001b[0miter\u001b[0m\u001b[1;33m(\u001b[0m\u001b[0mopen\u001b[0m\u001b[1;33m(\u001b[0m\u001b[0mfname\u001b[0m\u001b[1;33m,\u001b[0m \u001b[1;34m'U'\u001b[0m\u001b[1;33m)\u001b[0m\u001b[1;33m)\u001b[0m\u001b[1;33m\u001b[0m\u001b[0m\n\u001b[0m\u001b[0;32m    738\u001b[0m             \u001b[1;32melse\u001b[0m\u001b[1;33m:\u001b[0m\u001b[1;33m\u001b[0m\u001b[0m\n\u001b[0;32m    739\u001b[0m                 \u001b[0mfh\u001b[0m \u001b[1;33m=\u001b[0m \u001b[0miter\u001b[0m\u001b[1;33m(\u001b[0m\u001b[0mopen\u001b[0m\u001b[1;33m(\u001b[0m\u001b[0mfname\u001b[0m\u001b[1;33m)\u001b[0m\u001b[1;33m)\u001b[0m\u001b[1;33m\u001b[0m\u001b[0m\n",
        "\u001b[1;31mIOError\u001b[0m: [Errno 2] No such file or directory: '/home/xiaodongli/SparseFilaments/data/input/boss2pcf/data/DR12v4-CMASS//xyzw.binsplitted/HR3.noRSD.000.xyzw.1of3.rmax150.150rbins.120mubins.2pcf'"
       ]
      }
     ],
     "prompt_number": 12
    }
   ],
   "metadata": {}
  }
 ]
}